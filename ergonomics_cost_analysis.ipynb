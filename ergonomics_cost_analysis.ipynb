{
 "cells": [
  {
   "cell_type": "markdown",
   "id": "69fa7bae",
   "metadata": {},
   "source": [
    "# Ergonomics and Sick Leave Cost Analysis\n",
    "\n",
    "This project uses real-world data to analyze the cost implications of musculoskeletal disorders (MSDs) in the workplace. The goal is to assess the financial impact of sick leave due to MSDs and evaluate how ergonomic interventions, such as assistive equipment, could reduce these costs."
   ]
  },
  {
   "cell_type": "code",
   "execution_count": 1,
   "id": "d2bf10ed",
   "metadata": {},
   "outputs": [],
   "source": [
    "import pandas as pd\n",
    "import matplotlib.pyplot as plt"
   ]
  },
  {
   "cell_type": "markdown",
   "id": "88d17fe3",
   "metadata": {},
   "source": [
    "## Step 1: Load the Datasets\n",
    "\n",
    "I will load two datasets:\n",
    "1. A sample ergonomics survey dataset (from EU-OSHA-style data)\n",
    "2. Country-level data for average salary and sick leave cost"
   ]
  },
  {
   "cell_type": "code",
   "execution_count": 2,
   "id": "0dfcd681",
   "metadata": {},
   "outputs": [
    {
     "data": {
      "text/html": [
       "<div>\n",
       "<style scoped>\n",
       "    .dataframe tbody tr th:only-of-type {\n",
       "        vertical-align: middle;\n",
       "    }\n",
       "\n",
       "    .dataframe tbody tr th {\n",
       "        vertical-align: top;\n",
       "    }\n",
       "\n",
       "    .dataframe thead th {\n",
       "        text-align: right;\n",
       "    }\n",
       "</style>\n",
       "<table border=\"1\" class=\"dataframe\">\n",
       "  <thead>\n",
       "    <tr style=\"text-align: right;\">\n",
       "      <th></th>\n",
       "      <th>Respondent ID</th>\n",
       "      <th>Country</th>\n",
       "      <th>Job Role</th>\n",
       "      <th>Lifting Heavy Loads</th>\n",
       "      <th>Posture: Standing Long Periods</th>\n",
       "      <th>Posture: Twisting Movements</th>\n",
       "      <th>Use of Assistive Equipment</th>\n",
       "      <th>Back Pain Last 12 Months</th>\n",
       "      <th>Sick Leave Due to MSD</th>\n",
       "    </tr>\n",
       "  </thead>\n",
       "  <tbody>\n",
       "    <tr>\n",
       "      <th>0</th>\n",
       "      <td>1</td>\n",
       "      <td>Norway</td>\n",
       "      <td>Warehouse Worker</td>\n",
       "      <td>Daily</td>\n",
       "      <td>Yes</td>\n",
       "      <td>Often</td>\n",
       "      <td>No</td>\n",
       "      <td>Yes</td>\n",
       "      <td>Yes</td>\n",
       "    </tr>\n",
       "    <tr>\n",
       "      <th>1</th>\n",
       "      <td>2</td>\n",
       "      <td>Sweden</td>\n",
       "      <td>Nurse</td>\n",
       "      <td>Weekly</td>\n",
       "      <td>Yes</td>\n",
       "      <td>Sometimes</td>\n",
       "      <td>Yes</td>\n",
       "      <td>No</td>\n",
       "      <td>No</td>\n",
       "    </tr>\n",
       "    <tr>\n",
       "      <th>2</th>\n",
       "      <td>3</td>\n",
       "      <td>Germany</td>\n",
       "      <td>Construction</td>\n",
       "      <td>Daily</td>\n",
       "      <td>Yes</td>\n",
       "      <td>Often</td>\n",
       "      <td>No</td>\n",
       "      <td>Yes</td>\n",
       "      <td>Yes</td>\n",
       "    </tr>\n",
       "    <tr>\n",
       "      <th>3</th>\n",
       "      <td>4</td>\n",
       "      <td>Norway</td>\n",
       "      <td>Logistics</td>\n",
       "      <td>Daily</td>\n",
       "      <td>No</td>\n",
       "      <td>Rarely</td>\n",
       "      <td>No</td>\n",
       "      <td>No</td>\n",
       "      <td>No</td>\n",
       "    </tr>\n",
       "    <tr>\n",
       "      <th>4</th>\n",
       "      <td>5</td>\n",
       "      <td>France</td>\n",
       "      <td>Nurse</td>\n",
       "      <td>Weekly</td>\n",
       "      <td>Yes</td>\n",
       "      <td>Often</td>\n",
       "      <td>Yes</td>\n",
       "      <td>Yes</td>\n",
       "      <td>No</td>\n",
       "    </tr>\n",
       "  </tbody>\n",
       "</table>\n",
       "</div>"
      ],
      "text/plain": [
       "   Respondent ID  Country          Job Role Lifting Heavy Loads  \\\n",
       "0              1   Norway  Warehouse Worker               Daily   \n",
       "1              2   Sweden             Nurse              Weekly   \n",
       "2              3  Germany      Construction               Daily   \n",
       "3              4   Norway         Logistics               Daily   \n",
       "4              5   France             Nurse              Weekly   \n",
       "\n",
       "  Posture: Standing Long Periods Posture: Twisting Movements  \\\n",
       "0                            Yes                       Often   \n",
       "1                            Yes                   Sometimes   \n",
       "2                            Yes                       Often   \n",
       "3                             No                      Rarely   \n",
       "4                            Yes                       Often   \n",
       "\n",
       "  Use of Assistive Equipment Back Pain Last 12 Months Sick Leave Due to MSD  \n",
       "0                         No                      Yes                   Yes  \n",
       "1                        Yes                       No                    No  \n",
       "2                         No                      Yes                   Yes  \n",
       "3                         No                       No                    No  \n",
       "4                        Yes                      Yes                    No  "
      ]
     },
     "execution_count": 2,
     "metadata": {},
     "output_type": "execute_result"
    }
   ],
   "source": [
    "ergonomics_df = pd.read_csv('eu_osha_ergonomics_dataset.csv')\n",
    "cost_df = pd.read_csv('country_sick_leave_costs.csv')\n",
    "ergonomics_df.head()"
   ]
  },
  {
   "cell_type": "markdown",
   "id": "1da0b88e",
   "metadata": {},
   "source": [
    "## Step 2: Clean and Prepare Data\n",
    "\n",
    "I will standardize the country names in both datasets to ensure they can be merged accurately."
   ]
  },
  {
   "cell_type": "code",
   "execution_count": 3,
   "id": "c698c363",
   "metadata": {},
   "outputs": [
    {
     "data": {
      "text/plain": [
       "array(['Norway', 'Sweden', 'Germany', 'France', 'Italy', 'Spain'],\n",
       "      dtype=object)"
      ]
     },
     "execution_count": 3,
     "metadata": {},
     "output_type": "execute_result"
    }
   ],
   "source": [
    "# Strip and lowercase for matching\n",
    "ergonomics_df['Country'] = ergonomics_df['Country'].str.strip()\n",
    "cost_df['Country'] = cost_df['Country'].str.strip()\n",
    "ergonomics_df['Country'] = ergonomics_df['Country'].str.title()\n",
    "cost_df['Country'] = cost_df['Country'].str.title()\n",
    "ergonomics_df['Country'].unique()"
   ]
  },
  {
   "cell_type": "markdown",
   "id": "08f7aff4",
   "metadata": {},
   "source": [
    "## Step 3: Merge Datasets\n",
    "\n",
    "Now I will merge the ergonomics survey data with the country-level salary and cost data."
   ]
  },
  {
   "cell_type": "code",
   "execution_count": 4,
   "id": "fc750fc3",
   "metadata": {},
   "outputs": [
    {
     "data": {
      "text/html": [
       "<div>\n",
       "<style scoped>\n",
       "    .dataframe tbody tr th:only-of-type {\n",
       "        vertical-align: middle;\n",
       "    }\n",
       "\n",
       "    .dataframe tbody tr th {\n",
       "        vertical-align: top;\n",
       "    }\n",
       "\n",
       "    .dataframe thead th {\n",
       "        text-align: right;\n",
       "    }\n",
       "</style>\n",
       "<table border=\"1\" class=\"dataframe\">\n",
       "  <thead>\n",
       "    <tr style=\"text-align: right;\">\n",
       "      <th></th>\n",
       "      <th>Respondent ID</th>\n",
       "      <th>Country</th>\n",
       "      <th>Job Role</th>\n",
       "      <th>Lifting Heavy Loads</th>\n",
       "      <th>Posture: Standing Long Periods</th>\n",
       "      <th>Posture: Twisting Movements</th>\n",
       "      <th>Use of Assistive Equipment</th>\n",
       "      <th>Back Pain Last 12 Months</th>\n",
       "      <th>Sick Leave Due to MSD</th>\n",
       "      <th>Average Daily Salary (EUR)</th>\n",
       "      <th>Estimated Sick Leave Cost/Day (EUR)</th>\n",
       "      <th>Avg MSD Sick Days per Year</th>\n",
       "    </tr>\n",
       "  </thead>\n",
       "  <tbody>\n",
       "    <tr>\n",
       "      <th>0</th>\n",
       "      <td>1</td>\n",
       "      <td>Norway</td>\n",
       "      <td>Warehouse Worker</td>\n",
       "      <td>Daily</td>\n",
       "      <td>Yes</td>\n",
       "      <td>Often</td>\n",
       "      <td>No</td>\n",
       "      <td>Yes</td>\n",
       "      <td>Yes</td>\n",
       "      <td>300</td>\n",
       "      <td>350</td>\n",
       "      <td>8</td>\n",
       "    </tr>\n",
       "    <tr>\n",
       "      <th>1</th>\n",
       "      <td>2</td>\n",
       "      <td>Sweden</td>\n",
       "      <td>Nurse</td>\n",
       "      <td>Weekly</td>\n",
       "      <td>Yes</td>\n",
       "      <td>Sometimes</td>\n",
       "      <td>Yes</td>\n",
       "      <td>No</td>\n",
       "      <td>No</td>\n",
       "      <td>250</td>\n",
       "      <td>300</td>\n",
       "      <td>10</td>\n",
       "    </tr>\n",
       "    <tr>\n",
       "      <th>2</th>\n",
       "      <td>3</td>\n",
       "      <td>Germany</td>\n",
       "      <td>Construction</td>\n",
       "      <td>Daily</td>\n",
       "      <td>Yes</td>\n",
       "      <td>Often</td>\n",
       "      <td>No</td>\n",
       "      <td>Yes</td>\n",
       "      <td>Yes</td>\n",
       "      <td>220</td>\n",
       "      <td>280</td>\n",
       "      <td>12</td>\n",
       "    </tr>\n",
       "    <tr>\n",
       "      <th>3</th>\n",
       "      <td>4</td>\n",
       "      <td>Norway</td>\n",
       "      <td>Logistics</td>\n",
       "      <td>Daily</td>\n",
       "      <td>No</td>\n",
       "      <td>Rarely</td>\n",
       "      <td>No</td>\n",
       "      <td>No</td>\n",
       "      <td>No</td>\n",
       "      <td>300</td>\n",
       "      <td>350</td>\n",
       "      <td>8</td>\n",
       "    </tr>\n",
       "    <tr>\n",
       "      <th>4</th>\n",
       "      <td>5</td>\n",
       "      <td>France</td>\n",
       "      <td>Nurse</td>\n",
       "      <td>Weekly</td>\n",
       "      <td>Yes</td>\n",
       "      <td>Often</td>\n",
       "      <td>Yes</td>\n",
       "      <td>Yes</td>\n",
       "      <td>No</td>\n",
       "      <td>210</td>\n",
       "      <td>270</td>\n",
       "      <td>9</td>\n",
       "    </tr>\n",
       "  </tbody>\n",
       "</table>\n",
       "</div>"
      ],
      "text/plain": [
       "   Respondent ID  Country          Job Role Lifting Heavy Loads  \\\n",
       "0              1   Norway  Warehouse Worker               Daily   \n",
       "1              2   Sweden             Nurse              Weekly   \n",
       "2              3  Germany      Construction               Daily   \n",
       "3              4   Norway         Logistics               Daily   \n",
       "4              5   France             Nurse              Weekly   \n",
       "\n",
       "  Posture: Standing Long Periods Posture: Twisting Movements  \\\n",
       "0                            Yes                       Often   \n",
       "1                            Yes                   Sometimes   \n",
       "2                            Yes                       Often   \n",
       "3                             No                      Rarely   \n",
       "4                            Yes                       Often   \n",
       "\n",
       "  Use of Assistive Equipment Back Pain Last 12 Months Sick Leave Due to MSD  \\\n",
       "0                         No                      Yes                   Yes   \n",
       "1                        Yes                       No                    No   \n",
       "2                         No                      Yes                   Yes   \n",
       "3                         No                       No                    No   \n",
       "4                        Yes                      Yes                    No   \n",
       "\n",
       "   Average Daily Salary (EUR)  Estimated Sick Leave Cost/Day (EUR)  \\\n",
       "0                         300                                  350   \n",
       "1                         250                                  300   \n",
       "2                         220                                  280   \n",
       "3                         300                                  350   \n",
       "4                         210                                  270   \n",
       "\n",
       "   Avg MSD Sick Days per Year  \n",
       "0                           8  \n",
       "1                          10  \n",
       "2                          12  \n",
       "3                           8  \n",
       "4                           9  "
      ]
     },
     "execution_count": 4,
     "metadata": {},
     "output_type": "execute_result"
    }
   ],
   "source": [
    "merged_df = pd.merge(ergonomics_df, cost_df, on='Country', how='left')\n",
    "merged_df.head()"
   ]
  },
  {
   "cell_type": "markdown",
   "id": "27ea6a94",
   "metadata": {},
   "source": [
    "## Step 4: Handle Missing Values\n",
    "\n",
    "I will check if any countries were not matched and handle missing values if needed."
   ]
  },
  {
   "cell_type": "code",
   "execution_count": 5,
   "id": "cbdad983",
   "metadata": {},
   "outputs": [
    {
     "data": {
      "text/plain": [
       "array([], dtype=object)"
      ]
     },
     "execution_count": 5,
     "metadata": {},
     "output_type": "execute_result"
    }
   ],
   "source": [
    "missing_countries = merged_df[merged_df['Average Daily Salary (EUR)'].isna()]['Country'].unique()\n",
    "missing_countries"
   ]
  },
  {
   "cell_type": "markdown",
   "id": "95241887",
   "metadata": {},
   "source": [
    "## Step 5: Calculate Annual Cost of MSD-Related Sick Leave per Worker\n",
    "\n",
    "I will calculate the cost per worker using the following formula:\n",
    "**Total Cost = Sick Days × Sick Leave Cost per Day**"
   ]
  },
  {
   "cell_type": "code",
   "execution_count": 6,
   "id": "4d221c95",
   "metadata": {},
   "outputs": [
    {
     "data": {
      "text/html": [
       "<div>\n",
       "<style scoped>\n",
       "    .dataframe tbody tr th:only-of-type {\n",
       "        vertical-align: middle;\n",
       "    }\n",
       "\n",
       "    .dataframe tbody tr th {\n",
       "        vertical-align: top;\n",
       "    }\n",
       "\n",
       "    .dataframe thead th {\n",
       "        text-align: right;\n",
       "    }\n",
       "</style>\n",
       "<table border=\"1\" class=\"dataframe\">\n",
       "  <thead>\n",
       "    <tr style=\"text-align: right;\">\n",
       "      <th></th>\n",
       "      <th>Country</th>\n",
       "      <th>Job Role</th>\n",
       "      <th>Estimated MSD Sick Leave Cost (EUR)</th>\n",
       "    </tr>\n",
       "  </thead>\n",
       "  <tbody>\n",
       "    <tr>\n",
       "      <th>0</th>\n",
       "      <td>Norway</td>\n",
       "      <td>Warehouse Worker</td>\n",
       "      <td>2800</td>\n",
       "    </tr>\n",
       "    <tr>\n",
       "      <th>1</th>\n",
       "      <td>Sweden</td>\n",
       "      <td>Nurse</td>\n",
       "      <td>3000</td>\n",
       "    </tr>\n",
       "    <tr>\n",
       "      <th>2</th>\n",
       "      <td>Germany</td>\n",
       "      <td>Construction</td>\n",
       "      <td>3360</td>\n",
       "    </tr>\n",
       "    <tr>\n",
       "      <th>3</th>\n",
       "      <td>Norway</td>\n",
       "      <td>Logistics</td>\n",
       "      <td>2800</td>\n",
       "    </tr>\n",
       "    <tr>\n",
       "      <th>4</th>\n",
       "      <td>France</td>\n",
       "      <td>Nurse</td>\n",
       "      <td>2430</td>\n",
       "    </tr>\n",
       "  </tbody>\n",
       "</table>\n",
       "</div>"
      ],
      "text/plain": [
       "   Country          Job Role  Estimated MSD Sick Leave Cost (EUR)\n",
       "0   Norway  Warehouse Worker                                 2800\n",
       "1   Sweden             Nurse                                 3000\n",
       "2  Germany      Construction                                 3360\n",
       "3   Norway         Logistics                                 2800\n",
       "4   France             Nurse                                 2430"
      ]
     },
     "execution_count": 6,
     "metadata": {},
     "output_type": "execute_result"
    }
   ],
   "source": [
    "merged_df['Estimated MSD Sick Leave Cost (EUR)'] = merged_df['Avg MSD Sick Days per Year'] * merged_df['Estimated Sick Leave Cost/Day (EUR)']\n",
    "merged_df[['Country', 'Job Role', 'Estimated MSD Sick Leave Cost (EUR)']].head()"
   ]
  },
  {
   "cell_type": "markdown",
   "id": "1f04b655",
   "metadata": {},
   "source": [
    "## Step 6: Save the Merged and Processed Dataset\n",
    "\n",
    "I will save the final merged dataset as a CSV for further analysis or visualization in Tableau."
   ]
  },
  {
   "cell_type": "code",
   "execution_count": 7,
   "id": "0dfea98c",
   "metadata": {},
   "outputs": [
    {
     "data": {
      "text/plain": [
       "'final_ergonomics_cost_dataset.csv saved.'"
      ]
     },
     "execution_count": 7,
     "metadata": {},
     "output_type": "execute_result"
    }
   ],
   "source": [
    "merged_df.to_csv('final_ergonomics_cost_dataset.csv', index=False)\n",
    "\"final_ergonomics_cost_dataset.csv saved.\""
   ]
  }
 ],
 "metadata": {
  "kernelspec": {
   "display_name": "Python 3",
   "language": "python",
   "name": "python3"
  },
  "language_info": {
   "codemirror_mode": {
    "name": "ipython",
    "version": 3
   },
   "file_extension": ".py",
   "mimetype": "text/x-python",
   "name": "python",
   "nbconvert_exporter": "python",
   "pygments_lexer": "ipython3",
   "version": "3.11.13"
  }
 },
 "nbformat": 4,
 "nbformat_minor": 5
}
